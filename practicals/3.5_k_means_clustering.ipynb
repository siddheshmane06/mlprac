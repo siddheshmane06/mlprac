{
 "cells": [
  {
   "cell_type": "code",
   "execution_count": 1,
   "id": "1fd5590d",
   "metadata": {},
   "outputs": [],
   "source": [
    "import pandas as pd\n",
    "import numpy as np\n",
    "from sklearn.cluster import KMeans\n",
    "import matplotlib.pyplot as plt\n",
    "import warnings\n",
    "warnings.filterwarnings(\"ignore\")"
   ]
  },
  {
   "cell_type": "code",
   "execution_count": 2,
   "id": "e0ec0a1d",
   "metadata": {},
   "outputs": [
    {
     "data": {
      "text/html": [
       "<div>\n",
       "<style scoped>\n",
       "    .dataframe tbody tr th:only-of-type {\n",
       "        vertical-align: middle;\n",
       "    }\n",
       "\n",
       "    .dataframe tbody tr th {\n",
       "        vertical-align: top;\n",
       "    }\n",
       "\n",
       "    .dataframe thead th {\n",
       "        text-align: right;\n",
       "    }\n",
       "</style>\n",
       "<table border=\"1\" class=\"dataframe\">\n",
       "  <thead>\n",
       "    <tr style=\"text-align: right;\">\n",
       "      <th></th>\n",
       "      <th>cgpa</th>\n",
       "      <th>ML</th>\n",
       "    </tr>\n",
       "  </thead>\n",
       "  <tbody>\n",
       "    <tr>\n",
       "      <th>0</th>\n",
       "      <td>5.13</td>\n",
       "      <td>88</td>\n",
       "    </tr>\n",
       "    <tr>\n",
       "      <th>1</th>\n",
       "      <td>5.90</td>\n",
       "      <td>113</td>\n",
       "    </tr>\n",
       "    <tr>\n",
       "      <th>2</th>\n",
       "      <td>8.36</td>\n",
       "      <td>93</td>\n",
       "    </tr>\n",
       "    <tr>\n",
       "      <th>3</th>\n",
       "      <td>8.27</td>\n",
       "      <td>97</td>\n",
       "    </tr>\n",
       "    <tr>\n",
       "      <th>4</th>\n",
       "      <td>5.45</td>\n",
       "      <td>110</td>\n",
       "    </tr>\n",
       "    <tr>\n",
       "      <th>...</th>\n",
       "      <td>...</td>\n",
       "      <td>...</td>\n",
       "    </tr>\n",
       "    <tr>\n",
       "      <th>195</th>\n",
       "      <td>4.68</td>\n",
       "      <td>89</td>\n",
       "    </tr>\n",
       "    <tr>\n",
       "      <th>196</th>\n",
       "      <td>8.57</td>\n",
       "      <td>118</td>\n",
       "    </tr>\n",
       "    <tr>\n",
       "      <th>197</th>\n",
       "      <td>5.85</td>\n",
       "      <td>112</td>\n",
       "    </tr>\n",
       "    <tr>\n",
       "      <th>198</th>\n",
       "      <td>6.23</td>\n",
       "      <td>108</td>\n",
       "    </tr>\n",
       "    <tr>\n",
       "      <th>199</th>\n",
       "      <td>8.82</td>\n",
       "      <td>117</td>\n",
       "    </tr>\n",
       "  </tbody>\n",
       "</table>\n",
       "<p>200 rows × 2 columns</p>\n",
       "</div>"
      ],
      "text/plain": [
       "     cgpa   ML\n",
       "0    5.13   88\n",
       "1    5.90  113\n",
       "2    8.36   93\n",
       "3    8.27   97\n",
       "4    5.45  110\n",
       "..    ...  ...\n",
       "195  4.68   89\n",
       "196  8.57  118\n",
       "197  5.85  112\n",
       "198  6.23  108\n",
       "199  8.82  117\n",
       "\n",
       "[200 rows x 2 columns]"
      ]
     },
     "execution_count": 2,
     "metadata": {},
     "output_type": "execute_result"
    }
   ],
   "source": [
    "df=pd.read_csv('data/student_clustering.csv')\n",
    "df"
   ]
  },
  {
   "cell_type": "code",
   "execution_count": 3,
   "id": "a4420805",
   "metadata": {},
   "outputs": [
    {
     "data": {
      "text/plain": [
       "<matplotlib.collections.PathCollection at 0x17916b4f1f0>"
      ]
     },
     "execution_count": 3,
     "metadata": {},
     "output_type": "execute_result"
    },
    {
     "data": {
      "image/png": "[encoded data removed]",
      "text/plain": [
       "<Figure size 432x288 with 1 Axes>"
      ]
     },
     "metadata": {
      "needs_background": "light"
     },
     "output_type": "display_data"
    }
   ],
   "source": [
    "plt.scatter(df['cgpa'],df['ML'])"
   ]
  },
  {
   "cell_type": "code",
   "execution_count": 4,
   "id": "980ef442",
   "metadata": {},
   "outputs": [],
   "source": [
    "#define number of predefined cluster\n",
    "wcss=[]\n",
    "for i in range(1,11):\n",
    "    km=KMeans(n_clusters=i)\n",
    "    km.fit_predict(df)\n",
    "    wcss.append(km.inertia_)"
   ]
  },
  {
   "cell_type": "code",
   "execution_count": 5,
   "id": "05df4669",
   "metadata": {},
   "outputs": [
    {
     "name": "stdout",
     "output_type": "stream",
     "text": [
      "[29957.898287999997, 4184.14127, 2362.7133490000006, 681.96966, 514.1616803171115, 388.8524026875981, 326.9540379483691, 243.20066635671455, 206.9381293615118, 178.31703325370282]\n"
     ]
    }
   ],
   "source": [
    "print(wcss)"
   ]
  },
  {
   "cell_type": "code",
   "execution_count": 6,
   "id": "396d8786",
   "metadata": {},
   "outputs": [
    {
     "data": {
      "text/plain": [
       "[<matplotlib.lines.Line2D at 0x17917319d90>]"
      ]
     },
     "execution_count": 6,
     "metadata": {},
     "output_type": "execute_result"
    },
    {
     "data": {
      "image/png": "[encoded data removed]",
      "text/plain": [
       "<Figure size 432x288 with 1 Axes>"
      ]
     },
     "metadata": {
      "needs_background": "light"
     },
     "output_type": "display_data"
    }
   ],
   "source": [
    "plt.plot(range(1,11),wcss)"
   ]
  },
  {
   "cell_type": "code",
   "execution_count": 7,
   "id": "2575c851",
   "metadata": {},
   "outputs": [],
   "source": [
    "x=df.iloc[:,:].values\n",
    "km=KMeans(n_clusters=4)\n",
    "y_means=km.fit_predict(x)"
   ]
  },
  {
   "cell_type": "code",
   "execution_count": 8,
   "id": "b42d24c6",
   "metadata": {},
   "outputs": [
    {
     "data": {
      "text/plain": [
       "array([3, 2, 0, 0, 2, 2, 0, 1, 2, 0, 3, 2, 0, 3, 2, 0, 2, 0, 2, 2, 0, 3,\n",
       "       0, 3, 3, 0, 3, 1, 0, 2, 1, 2, 1, 2, 0, 0, 1, 2, 3, 2, 3, 0, 0, 3,\n",
       "       1, 1, 0, 2, 1, 2, 3, 3, 1, 0, 1, 2, 2, 1, 2, 1, 2, 0, 0, 1, 3, 1,\n",
       "       0, 3, 2, 0, 2, 1, 0, 3, 2, 1, 2, 1, 3, 0, 0, 1, 2, 3, 1, 3, 1, 2,\n",
       "       1, 2, 1, 1, 0, 3, 0, 0, 1, 0, 3, 1, 2, 3, 3, 1, 3, 3, 0, 3, 1, 1,\n",
       "       0, 1, 2, 2, 0, 1, 0, 2, 1, 3, 3, 2, 0, 1, 0, 3, 0, 2, 3, 0, 0, 2,\n",
       "       3, 3, 2, 1, 2, 3, 0, 0, 0, 3, 2, 3, 3, 1, 3, 1, 2, 3, 1, 3, 1, 1,\n",
       "       3, 0, 2, 1, 2, 0, 3, 1, 2, 0, 1, 3, 2, 3, 3, 1, 1, 2, 1, 3, 3, 0,\n",
       "       1, 2, 3, 1, 1, 2, 2, 2, 0, 3, 0, 0, 1, 2, 0, 0, 3, 3, 0, 3, 1, 2,\n",
       "       2, 1])"
      ]
     },
     "execution_count": 8,
     "metadata": {},
     "output_type": "execute_result"
    }
   ],
   "source": [
    "y_means"
   ]
  },
  {
   "cell_type": "code",
   "execution_count": 9,
   "id": "d024ff98",
   "metadata": {},
   "outputs": [
    {
     "data": {
      "text/plain": [
       "array([ 93.,  97.,  98.,  94.,  97.,  95.,  91.,  98.,  92.,  98.,  94.,\n",
       "        96.,  96.,  96.,  93.,  94.,  96.,  96.,  95.,  93.,  95.,  94.,\n",
       "        92.,  91.,  92.,  95.,  94.,  95.,  92.,  94.,  91.,  95.,  93.,\n",
       "        97.,  98.,  96.,  93., 100.,  96.,  94.,  95.,  93.,  92.,  98.,\n",
       "        96.,  93.,  91.,  93.,  94.,  96.])"
      ]
     },
     "execution_count": 9,
     "metadata": {},
     "output_type": "execute_result"
    }
   ],
   "source": [
    "x[y_means==0,1]"
   ]
  },
  {
   "cell_type": "code",
   "execution_count": 10,
   "id": "b2d4caaa",
   "metadata": {},
   "outputs": [
    {
     "data": {
      "text/plain": [
       "<matplotlib.collections.PathCollection at 0x17917bfcdc0>"
      ]
     },
     "execution_count": 10,
     "metadata": {},
     "output_type": "execute_result"
    },
    {
     "data": {
      "image/png": "[encoded data removed]",
      "text/plain": [
       "<Figure size 432x288 with 1 Axes>"
      ]
     },
     "metadata": {
      "needs_background": "light"
     },
     "output_type": "display_data"
    }
   ],
   "source": [
    "plt.scatter(x[y_means==0,0],x[y_means==0,1],c='r')\n",
    "plt.scatter(x[y_means==1,0],x[y_means==1,1],c='b')   \n",
    "plt.scatter(x[y_means==2,0],x[y_means==2,1],c='g')\n",
    "plt.scatter(x[y_means==3,0],x[y_means==3,1],c='orange')   "
   ]
  },
  {
   "cell_type": "code",
   "execution_count": 11,
   "id": "0bb964dd",
   "metadata": {},
   "outputs": [
    {
     "data": {
      "text/html": [
       "<div>\n",
       "<style scoped>\n",
       "    .dataframe tbody tr th:only-of-type {\n",
       "        vertical-align: middle;\n",
       "    }\n",
       "\n",
       "    .dataframe tbody tr th {\n",
       "        vertical-align: top;\n",
       "    }\n",
       "\n",
       "    .dataframe thead th {\n",
       "        text-align: right;\n",
       "    }\n",
       "</style>\n",
       "<table border=\"1\" class=\"dataframe\">\n",
       "  <thead>\n",
       "    <tr style=\"text-align: right;\">\n",
       "      <th></th>\n",
       "      <th>0</th>\n",
       "      <th>1</th>\n",
       "    </tr>\n",
       "  </thead>\n",
       "  <tbody>\n",
       "    <tr>\n",
       "      <th>0</th>\n",
       "      <td>484.891555</td>\n",
       "      <td>-31.006357</td>\n",
       "    </tr>\n",
       "    <tr>\n",
       "      <th>1</th>\n",
       "      <td>489.391178</td>\n",
       "      <td>21.973916</td>\n",
       "    </tr>\n",
       "    <tr>\n",
       "      <th>2</th>\n",
       "      <td>462.886575</td>\n",
       "      <td>-27.599889</td>\n",
       "    </tr>\n",
       "    <tr>\n",
       "      <th>3</th>\n",
       "      <td>517.218479</td>\n",
       "      <td>5.588090</td>\n",
       "    </tr>\n",
       "    <tr>\n",
       "      <th>4</th>\n",
       "      <td>455.669049</td>\n",
       "      <td>1.982181</td>\n",
       "    </tr>\n",
       "  </tbody>\n",
       "</table>\n",
       "</div>"
      ],
      "text/plain": [
       "            0          1\n",
       "0  484.891555 -31.006357\n",
       "1  489.391178  21.973916\n",
       "2  462.886575 -27.599889\n",
       "3  517.218479   5.588090\n",
       "4  455.669049   1.982181"
      ]
     },
     "execution_count": 11,
     "metadata": {},
     "output_type": "execute_result"
    }
   ],
   "source": [
    "data=pd.read_csv('data/Density.csv')\n",
    "data.head(5)"
   ]
  },
  {
   "cell_type": "code",
   "execution_count": 12,
   "id": "de847941",
   "metadata": {},
   "outputs": [
    {
     "data": {
      "text/html": [
       "<div>\n",
       "<style scoped>\n",
       "    .dataframe tbody tr th:only-of-type {\n",
       "        vertical-align: middle;\n",
       "    }\n",
       "\n",
       "    .dataframe tbody tr th {\n",
       "        vertical-align: top;\n",
       "    }\n",
       "\n",
       "    .dataframe thead th {\n",
       "        text-align: right;\n",
       "    }\n",
       "</style>\n",
       "<table border=\"1\" class=\"dataframe\">\n",
       "  <thead>\n",
       "    <tr style=\"text-align: right;\">\n",
       "      <th></th>\n",
       "      <th>0</th>\n",
       "      <th>1</th>\n",
       "    </tr>\n",
       "  </thead>\n",
       "  <tbody>\n",
       "    <tr>\n",
       "      <th>0</th>\n",
       "      <td>484.891555</td>\n",
       "      <td>-31.006357</td>\n",
       "    </tr>\n",
       "    <tr>\n",
       "      <th>1</th>\n",
       "      <td>489.391178</td>\n",
       "      <td>21.973916</td>\n",
       "    </tr>\n",
       "    <tr>\n",
       "      <th>2</th>\n",
       "      <td>462.886575</td>\n",
       "      <td>-27.599889</td>\n",
       "    </tr>\n",
       "    <tr>\n",
       "      <th>3</th>\n",
       "      <td>517.218479</td>\n",
       "      <td>5.588090</td>\n",
       "    </tr>\n",
       "    <tr>\n",
       "      <th>4</th>\n",
       "      <td>455.669049</td>\n",
       "      <td>1.982181</td>\n",
       "    </tr>\n",
       "  </tbody>\n",
       "</table>\n",
       "</div>"
      ],
      "text/plain": [
       "            0          1\n",
       "0  484.891555 -31.006357\n",
       "1  489.391178  21.973916\n",
       "2  462.886575 -27.599889\n",
       "3  517.218479   5.588090\n",
       "4  455.669049   1.982181"
      ]
     },
     "execution_count": 12,
     "metadata": {},
     "output_type": "execute_result"
    }
   ],
   "source": [
    "data.head()"
   ]
  },
  {
   "cell_type": "code",
   "execution_count": 13,
   "id": "46e2c4d8",
   "metadata": {},
   "outputs": [
    {
     "data": {
      "text/plain": [
       "<matplotlib.collections.PathCollection at 0x17917221bb0>"
      ]
     },
     "execution_count": 13,
     "metadata": {},
     "output_type": "execute_result"
    },
    {
     "data": {
      "image/png": "[encoded data removed]",
      "text/plain": [
       "<Figure size 432x288 with 1 Axes>"
      ]
     },
     "metadata": {
      "needs_background": "light"
     },
     "output_type": "display_data"
    }
   ],
   "source": [
    "plt.scatter(data['0'],data['1'])"
   ]
  },
  {
   "cell_type": "code",
   "execution_count": 14,
   "id": "d582ab90",
   "metadata": {},
   "outputs": [],
   "source": [
    "wcss1=[]\n",
    "for i in range(1,11):\n",
    "    km=KMeans(n_clusters=i)\n",
    "    km.fit_predict(data)\n",
    "    wcss1.append(km.inertia_)"
   ]
  },
  {
   "cell_type": "code",
   "execution_count": 15,
   "id": "e4c06cd5",
   "metadata": {},
   "outputs": [
    {
     "name": "stdout",
     "output_type": "stream",
     "text": [
      "[390621114.1146109, 251770867.90176708, 158243487.8719891, 114727476.96567559, 94194663.81414388, 73560973.18014836, 59996755.88648495, 52323998.09870945, 46366119.76672973, 43199715.24806972]\n"
     ]
    }
   ],
   "source": [
    "print(wcss1)"
   ]
  },
  {
   "cell_type": "code",
   "execution_count": 16,
   "id": "59edf1f0",
   "metadata": {},
   "outputs": [
    {
     "data": {
      "text/plain": [
       "[<matplotlib.lines.Line2D at 0x17918327cd0>]"
      ]
     },
     "execution_count": 16,
     "metadata": {},
     "output_type": "execute_result"
    },
    {
     "data": {
      "image/png": "[encoded data removed]",
      "text/plain": [
       "<Figure size 432x288 with 1 Axes>"
      ]
     },
     "metadata": {
      "needs_background": "light"
     },
     "output_type": "display_data"
    }
   ],
   "source": [
    "plt.plot(range(1,11),wcss1)"
   ]
  },
  {
   "cell_type": "code",
   "execution_count": 17,
   "id": "0468edde",
   "metadata": {},
   "outputs": [],
   "source": [
    "x1=data.iloc[:,:].values\n",
    "km1=KMeans(n_clusters=3)\n",
    "y_means1=km1.fit_predict(x1)"
   ]
  },
  {
   "cell_type": "code",
   "execution_count": 18,
   "id": "a6dc4d04",
   "metadata": {},
   "outputs": [
    {
     "name": "stdout",
     "output_type": "stream",
     "text": [
      "[0 0 0 ... 1 0 1]\n"
     ]
    }
   ],
   "source": [
    "print(y_means1)"
   ]
  },
  {
   "cell_type": "code",
   "execution_count": 19,
   "id": "c7aae723",
   "metadata": {},
   "outputs": [
    {
     "data": {
      "text/plain": [
       "array([-3.10063570e+01,  2.19739156e+01, -2.75998888e+01,  5.58808960e+00,\n",
       "        1.98218085e+00, -2.51268013e+01, -6.54143482e+01, -2.17464668e+01,\n",
       "        7.68668722e+00, -4.09738513e+01, -2.24327616e+00, -3.50790428e+01,\n",
       "        1.41229835e+01,  2.51965388e+01,  8.30334417e+00,  7.57492030e+01,\n",
       "       -8.42575073e+00, -1.01971171e+01, -2.92415237e+01,  3.85724539e+01,\n",
       "        4.09232280e+01,  2.98620345e+01,  2.04100650e+01,  7.68264614e+01,\n",
       "       -4.67397214e+00,  3.97661142e+01,  7.27670110e+01,  8.54499331e+01,\n",
       "        5.13265105e+01,  9.29570111e+01,  6.12049647e+01,  3.39687915e+01,\n",
       "        1.13618505e+02,  1.06109542e+02,  5.97180281e+01,  1.28276477e+02,\n",
       "        1.32134023e+02,  1.12906574e+02,  8.23293949e+01,  3.47178761e+01,\n",
       "        1.08098740e+02,  8.48726466e+01,  8.83982833e+01,  1.16338501e+02,\n",
       "        1.24893576e+02,  1.41568981e+02,  1.05688219e+02,  7.46153423e+01,\n",
       "        1.29349293e+02,  1.17470883e+02,  1.14873900e+02,  1.06403487e+02,\n",
       "        1.45565540e+02,  1.41647107e+02,  1.37135583e+02,  1.41526045e+02,\n",
       "        2.19164423e+02,  1.57252360e+02,  1.16077342e+02,  1.76620267e+02,\n",
       "        1.29697979e+02,  1.17834016e+02,  2.28505665e+02,  1.48697902e+02,\n",
       "        1.53469676e+02,  1.73510107e+02,  1.88532310e+02,  2.23685823e+02,\n",
       "        1.70381019e+02,  1.45963716e+02,  2.24942306e+02,  1.94096899e+02,\n",
       "        2.14833802e+02,  1.54577910e+02,  2.05904790e+02,  2.10183377e+02,\n",
       "        2.09543150e+02,  1.83921424e+02,  2.22334090e+02,  2.30573445e+02,\n",
       "        2.37237601e+02,  1.91743201e+02,  2.31475980e+02,  2.78715390e+02,\n",
       "        2.01908623e+02,  2.02745458e+02,  2.40143231e+02,  2.57402812e+02,\n",
       "        2.78861614e+02,  3.19518472e+02,  2.14845899e+02,  2.57671346e+02,\n",
       "        2.67242950e+02,  2.46252941e+02,  2.05596272e+02,  2.79326438e+02,\n",
       "        2.18843899e+02,  2.70345873e+02,  2.65956993e+02,  2.29603517e+02,\n",
       "        2.83251946e+02,  3.00566553e+02,  2.43330020e+02,  2.89378727e+02,\n",
       "        3.92035472e+02,  3.12996776e+02,  3.00935628e+02,  3.06614757e+02,\n",
       "        2.79180523e+02,  2.91168219e+02,  2.35108371e+02,  2.45146505e+02,\n",
       "        3.28585381e+02,  2.65960534e+02,  3.21043865e+02,  3.09499691e+02,\n",
       "        2.85794778e+02,  3.26683975e+02,  3.15570319e+02,  3.37846553e+02,\n",
       "        3.11114811e+02,  3.42799309e+02,  3.09047672e+02,  3.01725108e+02,\n",
       "        3.35702842e+02,  3.53303697e+02,  3.58942199e+02,  3.15627490e+02,\n",
       "        3.11096481e+02,  3.57723335e+02,  3.34841912e+02,  3.08024929e+02,\n",
       "        3.03437391e+02,  3.00066331e+02,  3.48977752e+02,  3.04049826e+02,\n",
       "        3.49487950e+02,  3.65084360e+02,  3.35239997e+02,  3.43697213e+02,\n",
       "        3.77115450e+02,  3.22096686e+02,  3.02632771e+02,  3.80793732e+02,\n",
       "        3.46396521e+02,  3.52205171e+02,  3.94385283e+02,  3.49996205e+02,\n",
       "        3.81872929e+02,  3.93397362e+02,  3.59541651e+02,  3.96480733e+02,\n",
       "        3.83495876e+02,  3.64019157e+02,  3.77474508e+02,  4.11444506e+02,\n",
       "        3.89394135e+02,  3.81164288e+02,  3.88259671e+02,  4.22513209e+02,\n",
       "        4.00680156e+02, -4.58934928e+02, -5.14439514e+02, -3.97816353e+02,\n",
       "       -4.64294335e+02, -4.80007655e+02, -4.30130229e+02, -4.70173283e+02,\n",
       "       -4.64221392e+02, -4.43969006e+02, -4.69768060e+02, -4.84811021e+02,\n",
       "       -4.65166855e+02, -4.08199486e+02, -4.65112572e+02, -4.51198159e+02,\n",
       "       -4.39033242e+02, -4.11408835e+02, -4.39263160e+02, -4.51307436e+02,\n",
       "       -4.56013409e+02, -4.80355445e+02, -3.80001755e+02, -4.56679431e+02,\n",
       "       -4.29121044e+02, -4.17978329e+02, -3.97492497e+02, -4.36134949e+02,\n",
       "       -3.69998741e+02, -4.54313385e+02, -4.26755651e+02, -3.95772755e+02,\n",
       "       -4.21947149e+02, -4.11536540e+02, -4.28321213e+02, -4.21032904e+02,\n",
       "       -3.92760231e+02, -3.76601494e+02, -3.82883956e+02, -3.49910025e+02,\n",
       "       -4.13450077e+02, -4.09966280e+02, -4.47245877e+02, -4.28661761e+02,\n",
       "       -3.43165912e+02, -3.97391217e+02, -3.55298163e+02, -3.80817172e+02,\n",
       "       -3.70735013e+02, -3.53522008e+02, -3.60988725e+02, -4.34001696e+02,\n",
       "       -3.35616897e+02, -3.45970668e+02, -3.32826119e+02, -3.47712865e+02,\n",
       "       -4.15725378e+02, -3.90640186e+02, -3.68282508e+02, -3.44111371e+02,\n",
       "       -3.07441347e+02, -3.50078639e+02, -3.93128656e+02, -3.52237431e+02,\n",
       "       -3.69484624e+02, -3.48778248e+02, -3.21044002e+02, -3.85120435e+02,\n",
       "       -3.61494499e+02, -2.96240013e+02, -3.30514366e+02, -3.11324569e+02,\n",
       "       -3.51511572e+02, -3.50309186e+02, -3.23253277e+02, -3.23165064e+02,\n",
       "       -3.64197784e+02, -3.63740141e+02, -2.98372724e+02, -2.84190539e+02,\n",
       "       -3.04034018e+02, -2.78917756e+02, -3.29932940e+02, -3.22135226e+02,\n",
       "       -3.27528783e+02, -2.92950036e+02, -3.12087392e+02, -2.76650452e+02,\n",
       "       -2.44891796e+02, -2.83955219e+02, -2.74815117e+02, -2.70478828e+02,\n",
       "       -2.65518565e+02, -2.70368272e+02, -2.77120343e+02, -3.24574573e+02,\n",
       "       -2.62566619e+02, -2.93405793e+02, -2.85775176e+02, -2.44179419e+02,\n",
       "       -2.00932281e+02, -2.23804490e+02, -2.68676490e+02, -2.53229418e+02,\n",
       "       -2.35079991e+02, -2.15718616e+02, -2.89643750e+02, -2.84199297e+02,\n",
       "       -1.97652064e+02, -2.40898374e+02, -2.32134464e+02, -1.99402180e+02,\n",
       "       -1.78019033e+02, -2.23256259e+02, -2.38238378e+02, -1.62670199e+02,\n",
       "       -2.25979867e+02, -1.96862325e+02, -1.89599630e+02, -1.99802528e+02,\n",
       "       -1.96217104e+02, -1.96732309e+02, -2.01572136e+02, -1.39533845e+02,\n",
       "       -1.93372907e+02, -1.91532219e+02, -1.67431525e+02, -1.62086576e+02,\n",
       "       -2.06312655e+02, -1.65207260e+02, -9.95369634e+01, -1.48425660e+02,\n",
       "       -1.76700967e+02, -1.76010791e+02, -1.68507661e+02, -1.28862308e+02,\n",
       "       -1.41072093e+02, -1.72776251e+02, -1.50715507e+02, -8.03211971e+01,\n",
       "       -1.21102578e+02, -1.36109755e+02, -1.74944100e+02, -1.12743939e+02,\n",
       "       -1.20751163e+02, -1.32352339e+02, -1.27807298e+02, -1.25505032e+02,\n",
       "       -1.12196467e+02, -1.09759044e+02, -6.72551495e+01, -1.21618381e+02,\n",
       "       -5.76620025e+01, -1.64972354e+00, -8.59694494e+01, -8.09819578e+01,\n",
       "       -6.70717249e+01, -8.06181567e+01, -8.47190559e+01, -4.30410538e+01,\n",
       "       -1.62137257e+02, -6.49532199e+01, -7.93189564e+01, -3.61042190e+01,\n",
       "       -4.91836912e+01, -9.96478122e+01, -2.92503549e+01, -3.65914966e+01,\n",
       "       -3.33597427e+01, -3.27477032e+01, -1.99363078e+01, -1.81751044e+01,\n",
       "       -4.17851279e+00, -5.95978115e+01, -5.23470793e+01, -3.16428026e+01,\n",
       "       -3.38535477e+01, -1.55237839e+01, -4.37437981e+01,  1.15865532e+01,\n",
       "       -3.67327903e+01, -3.93599372e+01, -1.42909431e+01, -6.59070789e+01,\n",
       "       -4.02859592e+01,  7.89393480e+00, -3.70135339e+01,  1.04424174e+01,\n",
       "        4.47683607e+01, -4.47910582e+00, -1.62696410e+01,  3.07641556e+01,\n",
       "        1.01049484e+02,  5.64651796e+00, -2.95052087e+01,  1.39359212e+01,\n",
       "        3.34278374e+01,  6.51261662e+01,  3.38493369e+01,  4.14120007e+01,\n",
       "        1.33649290e+01,  3.28840202e+01,  2.00292304e+01,  7.34437957e+01,\n",
       "        5.56187510e+01,  4.82824032e+01,  5.18927684e+01,  4.00856779e+01,\n",
       "        5.61120243e+01,  9.04915604e+01,  1.02346250e+02,  7.37313547e+01,\n",
       "        6.08713723e+01,  1.09003680e+02,  6.19067693e+01,  9.59654568e+01,\n",
       "        1.15519372e+01,  4.63152068e+01,  8.09932848e+01,  1.31481536e+02,\n",
       "        9.93930559e+01,  5.86754485e+01,  9.30192334e+01,  6.55780705e+01,\n",
       "        1.24701812e+02,  7.55244223e+01,  1.38759177e+02,  1.56675611e+02,\n",
       "        1.28935399e+02,  1.30256222e+02,  1.09642315e+02,  8.68143379e+01,\n",
       "        1.03825580e+02,  9.17215090e+01,  1.18138950e+02,  1.49713308e+02,\n",
       "        1.20581268e+02,  1.47161612e+02,  1.66444784e+02,  1.56814666e+02,\n",
       "        1.38098240e+02,  1.57491314e+02,  1.24742311e+02,  1.90620590e+02,\n",
       "        1.02309818e+02,  1.50033590e+02,  1.57982556e+02,  1.97502309e+02,\n",
       "        1.30079212e+02,  1.07751276e+02,  2.08988793e+02,  1.68148224e+02,\n",
       "        1.44803457e+02,  1.55814375e+02,  1.84112350e+02,  1.76796649e+02,\n",
       "        2.05609799e+02,  1.42940097e+02,  1.37636796e+02,  1.91309546e+02,\n",
       "        1.76978224e+02,  1.85730595e+02,  2.45768103e+02,  1.90511077e+02,\n",
       "        1.87042454e+02,  1.77967226e+02,  2.31710552e+02,  1.86141099e+02,\n",
       "        2.13578038e+02,  1.58533013e+02,  1.81294508e+02,  2.03435523e+02,\n",
       "        2.19185613e+02,  2.00491789e+02,  1.69071141e+02,  2.21780958e+02,\n",
       "        2.12683841e+02,  2.02268680e+02,  2.12961205e+02,  2.02419068e+02,\n",
       "        2.17861652e+02,  2.08130443e+02,  1.89760768e+02,  2.41041193e+02,\n",
       "       -3.10187644e+02, -2.84783125e+02, -2.84163772e+02, -3.00013646e+02,\n",
       "       -2.64903134e+02, -2.63214182e+02, -2.35914142e+02, -2.47467154e+02,\n",
       "       -2.17816492e+02, -2.49742893e+02, -2.88029842e+02, -3.22713409e+02,\n",
       "       -2.51430049e+02, -2.50097743e+02, -2.22787998e+02, -2.79738087e+02,\n",
       "       -2.32778254e+02, -2.42384680e+02, -2.89481895e+02, -2.06644682e+02,\n",
       "       -1.97071131e+02, -2.64424032e+02, -2.25194079e+02, -2.22244005e+02,\n",
       "       -2.22225854e+02, -2.70814055e+02, -2.01768187e+02, -2.38489380e+02,\n",
       "       -2.96138368e+02, -1.76050351e+02, -2.25720933e+02, -2.67049185e+02,\n",
       "       -1.99244152e+02, -1.39293736e+02, -1.91532443e+02, -1.98069592e+02,\n",
       "       -2.41139374e+02, -2.72783984e+02, -2.05989369e+02, -1.81062856e+02,\n",
       "       -2.06221278e+02, -2.29873582e+02, -1.63245513e+02, -2.02769903e+02,\n",
       "       -1.66767659e+02, -1.41500367e+02, -2.08849977e+02, -1.75874408e+02,\n",
       "       -2.19203966e+02, -1.69113978e+02, -1.47804709e+02, -1.82146284e+02,\n",
       "       -1.67248050e+02, -1.80651046e+02, -1.52928318e+02, -1.31777367e+02,\n",
       "       -1.80876112e+02, -1.80801765e+02, -2.44417901e+02, -1.57254718e+02,\n",
       "       -1.97255506e+02, -1.90951175e+02, -1.26045686e+02, -1.85871555e+02,\n",
       "       -1.86064742e+02, -1.20999313e+02, -1.39528993e+02, -1.47916920e+02,\n",
       "       -1.31942477e+02, -1.73379364e+02, -1.27943985e+02, -1.67398362e+02,\n",
       "       -6.58112256e+01, -1.60009196e+02, -1.22614279e+02, -1.13556851e+02,\n",
       "       -1.42940478e+02, -9.76625585e+01, -1.66512293e+02, -1.00346301e+02,\n",
       "       -1.55253253e+02, -1.16872636e+02, -5.59202290e+01, -1.14492559e+02,\n",
       "       -6.77069490e+01, -5.31417444e+01, -5.16613733e+01, -1.00866145e+02,\n",
       "       -1.04355583e+02, -8.91805512e+01, -9.38261336e+01, -1.50076417e+02,\n",
       "       -1.12958705e+02, -1.31535757e+02, -1.18923108e+02, -1.70022767e+01,\n",
       "       -6.76042418e+01, -6.63380242e+01, -1.03458783e+02, -1.07110317e+01,\n",
       "       -9.29719358e+01, -8.85087605e+01, -7.87399587e+01, -1.84923342e+01,\n",
       "       -2.07142531e+01, -6.57555805e+01, -4.38046611e+01, -3.92876372e+01,\n",
       "       -6.48535941e+01, -4.03473730e+01, -7.69649364e+01,  1.19806357e+01,\n",
       "       -4.21319227e+01, -1.08129473e+01, -2.87777907e+01, -9.96883306e+01,\n",
       "       -1.78468786e+01,  4.18587122e+01, -2.95589563e+01, -4.03535363e+01,\n",
       "       -1.77338880e+01, -5.02779332e+00, -2.51738878e+01, -9.48154435e+00,\n",
       "        7.41516139e+00,  2.88102117e+01,  4.04391411e+01,  3.39413882e+01,\n",
       "        4.32734374e+01,  1.91974734e+00,  3.34835689e+01, -2.95375739e+01,\n",
       "        1.94551288e+01, -5.84574779e+00,  6.21223258e+01, -1.79006518e+01,\n",
       "       -5.97362701e+00,  7.59153003e+00, -1.58513602e+01,  6.76445039e+00,\n",
       "        1.57823350e+01, -6.37110519e+00,  8.73785723e+01,  6.28206974e+01,\n",
       "       -6.35936419e+00,  3.92998994e+01,  3.03534623e+01,  3.60283557e+01,\n",
       "        8.14818206e+00,  2.90973999e+00, -2.02725455e+01,  8.59049645e+01,\n",
       "       -3.23946071e+01,  4.51257994e+01,  6.96008067e+01,  2.97372435e+00,\n",
       "        3.72326227e+01,  5.40937708e+01,  3.88112646e+01,  4.53465366e+01,\n",
       "        3.58831017e+01,  1.05485533e+01, -1.39891355e+00, -9.06617486e+00,\n",
       "       -1.18441808e+02, -9.58661861e+01, -1.03005566e+02, -9.63141949e+01,\n",
       "       -1.05213351e+02, -1.42709533e+02, -1.22952969e+02, -1.54319371e+02,\n",
       "       -1.33004804e+02, -1.33717589e+02, -8.92499167e+01, -1.06096938e+02,\n",
       "       -9.61698204e+01, -1.10057942e+02, -8.45802019e+01, -4.95011196e+01,\n",
       "       -7.09169993e+01, -8.04654179e+01, -1.30443233e+02, -1.11955588e+02,\n",
       "       -5.01646915e+01, -5.61784675e+01, -6.89571135e+01, -1.18370922e+02,\n",
       "       -1.03203822e+02, -5.92143873e+01, -9.28050753e+01, -7.97629868e+01,\n",
       "       -6.50811792e+01, -1.20383381e+01, -4.37472650e+01, -5.39637359e+01,\n",
       "       -1.19576143e+02, -2.21823656e+01, -9.19712719e+01, -5.42910511e+01,\n",
       "       -4.91216668e+01, -9.41591603e+00, -8.22808340e+01,  4.80305446e-01,\n",
       "       -8.03816957e+01, -1.07071264e+02, -5.89793323e+01, -6.36912954e+01,\n",
       "       -5.25056966e+01, -1.37460683e+01, -3.33338379e+01, -4.17031761e+01,\n",
       "       -1.91805633e+01, -3.35000000e+02,  1.11000000e+02,  1.31000000e+02,\n",
       "        1.55000000e+02,  1.90000000e+02, -3.72000000e+02,  4.20000000e+02,\n",
       "        3.42000000e+02, -3.91000000e+02,  2.32000000e+02,  9.70000000e+01,\n",
       "        3.70000000e+02,  6.70000000e+01, -1.20000000e+01,  3.80000000e+01,\n",
       "       -3.19000000e+02,  5.11000000e+02, -3.47000000e+02,  3.80000000e+01,\n",
       "        3.23000000e+02,  1.09000000e+02, -1.80000000e+02, -3.82000000e+02,\n",
       "       -4.12000000e+02, -3.01000000e+02, -2.48000000e+02, -3.17000000e+02,\n",
       "        1.70000000e+01, -1.79000000e+02, -5.60000000e+01,  1.67000000e+02,\n",
       "        7.70000000e+01,  2.03000000e+02,  4.86000000e+02, -1.72000000e+02,\n",
       "       -1.30000000e+01,  2.65000000e+02, -2.33000000e+02, -4.00000000e+01,\n",
       "        5.55000000e+02,  2.35000000e+02, -1.29000000e+02,  3.26000000e+02,\n",
       "       -4.10000000e+01,  8.80000000e+01,  9.60000000e+01,  3.59000000e+02,\n",
       "        1.06000000e+02,  1.53000000e+02,  5.07000000e+02, -7.30000000e+01,\n",
       "        4.09000000e+02,  2.19000000e+02, -1.73000000e+02, -2.10000000e+01,\n",
       "       -5.59000000e+02, -2.09000000e+02, -5.16000000e+02, -5.52000000e+02,\n",
       "       -5.32000000e+02,  9.60000000e+01, -4.54000000e+02,  8.00000000e+00,\n",
       "        3.15000000e+02, -5.46000000e+02,  1.02000000e+02, -2.72000000e+02,\n",
       "       -3.18000000e+02, -3.43000000e+02, -1.78000000e+02,  1.62000000e+02,\n",
       "       -1.77000000e+02,  4.80000000e+02,  1.79000000e+02,  1.24000000e+02,\n",
       "       -4.98000000e+02,  2.53000000e+02,  4.50000000e+02,  5.05000000e+02,\n",
       "        3.31000000e+02, -9.00000000e+01,  5.82000000e+02, -1.97000000e+02,\n",
       "        7.70000000e+01, -4.61000000e+02, -1.51000000e+02,  5.31000000e+02,\n",
       "       -9.80000000e+01, -2.75000000e+02,  5.60000000e+01,  5.61000000e+02,\n",
       "        1.22000000e+02,  2.68000000e+02,  8.70000000e+01,  1.90000000e+01,\n",
       "        2.45000000e+02,  6.60000000e+01, -1.08000000e+02,  3.69000000e+02,\n",
       "       -4.39000000e+02,  4.93000000e+02, -1.37000000e+02,  1.49000000e+02,\n",
       "        5.89000000e+02, -4.68000000e+02,  1.85000000e+02, -2.28000000e+02,\n",
       "        8.10000000e+01, -4.20000000e+02,  5.90000000e+01,  4.15000000e+02,\n",
       "       -5.80000000e+02, -5.35000000e+02])"
      ]
     },
     "execution_count": 19,
     "metadata": {},
     "output_type": "execute_result"
    }
   ],
   "source": [
    "x1[y_means1==0,1]"
   ]
  },
  {
   "cell_type": "code",
   "execution_count": 20,
   "id": "8e3519b6",
   "metadata": {},
   "outputs": [
    {
     "data": {
      "text/plain": [
       "<matplotlib.collections.PathCollection at 0x179183bbb50>"
      ]
     },
     "execution_count": 20,
     "metadata": {},
     "output_type": "execute_result"
    },
    {
     "data": {
      "image/png": "[encoded data removed]",
      "text/plain": [
       "<Figure size 432x288 with 1 Axes>"
      ]
     },
     "metadata": {
      "needs_background": "light"
     },
     "output_type": "display_data"
    }
   ],
   "source": [
    "plt.scatter(x1[y_means1==0,0],x1[y_means1==0,1],c='r')\n",
    "plt.scatter(x1[y_means1==1,0],x1[y_means1==1,1],c='b')   \n",
    "plt.scatter(x1[y_means1==2,0],x1[y_means1==2,1],c='g')  "
   ]
  },
  {
   "cell_type": "code",
   "execution_count": null,
   "id": "b1d699e5",
   "metadata": {},
   "outputs": [],
   "source": []
  }
 ],
 "metadata": {
  "kernelspec": {
   "display_name": "Python 3 (ipykernel)",
   "language": "python",
   "name": "python3"
  },
  "language_info": {
   "codemirror_mode": {
    "name": "ipython",
    "version": 3
   },
   "file_extension": ".py",
   "mimetype": "text/x-python",
   "name": "python",
   "nbconvert_exporter": "python",
   "pygments_lexer": "ipython3",
   "version": "3.9.12"
  }
 },
 "nbformat": 4,
 "nbformat_minor": 5
}
